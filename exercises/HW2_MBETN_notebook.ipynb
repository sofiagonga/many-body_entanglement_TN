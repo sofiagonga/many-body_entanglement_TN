{
 "cells": [
  {
   "cell_type": "markdown",
   "id": "47cede79",
   "metadata": {},
   "source": [
    "# Homework 2"
   ]
  },
  {
   "cell_type": "code",
   "execution_count": 1,
   "id": "5c2c5362",
   "metadata": {},
   "outputs": [],
   "source": [
    "import numpy as np\n",
    "import matplotlib.pyplot as plt\n",
    "import warnings\n",
    "warnings.filterwarnings('ignore')\n",
    "from numpy.linalg import eig\n",
    "from scipy.linalg import expm"
   ]
  },
  {
   "cell_type": "markdown",
   "id": "777f313e",
   "metadata": {},
   "source": [
    "## Question 1.a): Entanglement Entropy from Free Fermion Correlation Matrix"
   ]
  },
  {
   "cell_type": "markdown",
   "id": "c82ffd78",
   "metadata": {},
   "source": [
    "#### a) Building $N\\times N$ Hamiltonian matrix $A$ \n",
    "Particle perserving quadratic fermionic Hamiltonian."
   ]
  },
  {
   "cell_type": "code",
   "execution_count": 2,
   "id": "dedf129a",
   "metadata": {},
   "outputs": [],
   "source": [
    "def build_matrix_A(N, bc=1): # bc=1 (default) for PBC and bc=-1 for APBC\n",
    "    A = np.zeros((N, N)) \n",
    "    for n in range(N-1):\n",
    "        A[n, n+1] = -1\n",
    "        A[n+1, n] = -1\n",
    "    A[N-1,0] = -bc\n",
    "    A[0,N-1] = -bc\n",
    "    return A"
   ]
  },
  {
   "cell_type": "markdown",
   "id": "997f20cd",
   "metadata": {},
   "source": [
    "#### b) Building translation operator $T_f$### Periodic Boundary Conditions"
   ]
  },
  {
   "cell_type": "code",
   "execution_count": 3,
   "id": "9eb2cd86",
   "metadata": {},
   "outputs": [],
   "source": [
    "def build_T_operator(N, bc=1): # bc=1 (default) for PBC and bc=-1 for APBC\n",
    "    T_op = np.zeros((N,N))\n",
    "    for n in range(N-1):\n",
    "        T_op[n,n+1] = 1\n",
    "        \n",
    "    T_op[N-1,0] = bc\n",
    "    return T_op"
   ]
  },
  {
   "cell_type": "markdown",
   "id": "942605e2",
   "metadata": {},
   "source": [
    "### Diagonalisation of  $A$ and $T$."
   ]
  },
  {
   "cell_type": "code",
   "execution_count": 4,
   "id": "b8c75275",
   "metadata": {},
   "outputs": [],
   "source": [
    "def obtain_M(A, T_op):\n",
    "    N = int(np.shape(A)[0])\n",
    "    H = A.dot(np.eye(N) + 0.13*T_op)+0.05*T_op\n",
    "    D, U = eig(H)\n",
    "    \n",
    "    e = np.real(np.diag((U.conj().T).dot(A).dot(U)))\n",
    "    k = np.angle(np.diag((U.conj().T).dot(T_op).dot(U)))\n",
    "    \n",
    "    ord_idx = np.argsort(e)\n",
    "    e = e[ord_idx]\n",
    "    k = k[ord_idx]\n",
    "    U = U[:, ord_idx]\n",
    "    \n",
    "    M = (U.dot(np.diag(np.sign(e)))).dot(U.conj().T)\n",
    "    \n",
    "    return M"
   ]
  },
  {
   "cell_type": "code",
   "execution_count": null,
   "id": "a59c6290",
   "metadata": {},
   "outputs": [],
   "source": [
    "def obtain_M_2(N, ):\n",
    "    np.eye(N)-2/N"
   ]
  },
  {
   "cell_type": "code",
   "execution_count": 5,
   "id": "2d6a9f62",
   "metadata": {},
   "outputs": [
    {
     "name": "stdout",
     "output_type": "stream",
     "text": [
      "Is M successfully real? True\n",
      "Is M successfully symmetric? True\n"
     ]
    }
   ],
   "source": [
    "N = 100\n",
    "\n",
    "A_apbc = build_matrix_A(N, bc = -1)\n",
    "T_apbc = build_T_operator(N, bc = -1)\n",
    "\n",
    "M = obtain_M(A_apbc, T_apbc)\n",
    "\n",
    "print(\"Is M successfully real?\", np.allclose(M, np.real(M)))\n",
    "M = np.real(M) #cleaning neglible imaginary part\n",
    "print(\"Is M successfully symmetric?\", np.allclose(M, (M+M.conj().T)/2))"
   ]
  },
  {
   "cell_type": "code",
   "execution_count": 6,
   "id": "4a9f6bff",
   "metadata": {},
   "outputs": [
    {
     "data": {
      "text/plain": [
       "(100, 100)"
      ]
     },
     "execution_count": 6,
     "metadata": {},
     "output_type": "execute_result"
    }
   ],
   "source": [
    "np.shape(M)"
   ]
  },
  {
   "cell_type": "code",
   "execution_count": null,
   "id": "c5a72586",
   "metadata": {},
   "outputs": [],
   "source": [
    "def ent_entropy_fermi(M):\n",
    "    p = np.shape(M)[0]\n",
    "    entropy = np.zeros(p)\n",
    "    for n in range(p+1):\n",
    "        M_red = M[:n, :n]\n",
    "        u,v = eig(M_red)\n",
    "        for m in range(n):\n",
    "            x = u[m]\n",
    "            if abs(x) < 1:\n",
    "                entropy[n-1] -= (1+x)/2*np.log2((1+x)/2) + (1-x)/2*np.log2((1-x)/2)\n",
    "            elif abs(x) > 1+1e-5:\n",
    "                print(\"warning: (absolute) single particle eigenvalue > 1\")\n",
    "    return entropy"
   ]
  },
  {
   "cell_type": "code",
   "execution_count": null,
   "id": "4b9ab27b",
   "metadata": {},
   "outputs": [],
   "source": [
    "entropy_numerical = ent_entropy_fermi(M_A)"
   ]
  },
  {
   "cell_type": "code",
   "execution_count": null,
   "id": "359b2dc4",
   "metadata": {},
   "outputs": [],
   "source": [
    "cft_ent_entropy = [1/3*(np.log2(N/np.pi*np.sin(n*np.pi/N)))+1.05 for n in L_s] #c = 1\n",
    "plt.title(r\"Entanglement entropy $S(\\rho)$\", fontsize = 20)\n",
    "plt.xscale('log')\n",
    "plt.grid()\n",
    "plt.ylabel(r\"Entropy, $S(\\rho)$\", fontsize = 15)\n",
    "plt.xlabel(r\"Parittion, $L$\", fontsize = 15)\n",
    "plt.plot(L_s, entropy_numerical, '.', ms=7, label = 'numerical')\n",
    "plt.plot(L_s, cft_ent_entropy, label = 'CFT prediction')\n",
    "plt.legend(loc = 'lower right', fontsize = 15)\n",
    "plt.show()"
   ]
  },
  {
   "cell_type": "code",
   "execution_count": null,
   "id": "1a7172a8",
   "metadata": {},
   "outputs": [],
   "source": []
  }
 ],
 "metadata": {
  "kernelspec": {
   "display_name": "Python 3",
   "language": "python",
   "name": "python3"
  },
  "language_info": {
   "codemirror_mode": {
    "name": "ipython",
    "version": 3
   },
   "file_extension": ".py",
   "mimetype": "text/x-python",
   "name": "python",
   "nbconvert_exporter": "python",
   "pygments_lexer": "ipython3",
   "version": "3.8.8"
  }
 },
 "nbformat": 4,
 "nbformat_minor": 5
}
