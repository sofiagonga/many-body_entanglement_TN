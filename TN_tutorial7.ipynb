{
 "cells": [
  {
   "cell_type": "markdown",
   "id": "7fe74646",
   "metadata": {},
   "source": [
    "### Many-body Entanglement and Tensor Networks\n",
    "Tutorials based on the 2017 Perimeter Scholar International Condensed Matter Review course taught by Guifre Vidal"
   ]
  },
  {
   "cell_type": "markdown",
   "id": "291e9417",
   "metadata": {},
   "source": [
    "# <span style=\"color:#0C45A9\">Python tutorial 7</span>"
   ]
  },
  {
   "cell_type": "markdown",
   "id": "ef9c4c3e",
   "metadata": {},
   "source": [
    "In this tutorial we will work within the free fermion formalism. We will study the energy and ground-state entanglement for two free fermionic systems: one with two zero modes and one with more zero modes."
   ]
  },
  {
   "cell_type": "code",
   "execution_count": 1,
   "id": "8defa14c",
   "metadata": {},
   "outputs": [],
   "source": [
    "import numpy as np\n",
    "import matplotlib.pyplot as plt\n",
    "from numpy.linalg import eig\n",
    "\n",
    "import warnings\n",
    "warnings.filterwarnings('ignore')"
   ]
  },
  {
   "cell_type": "markdown",
   "id": "4c1fd547",
   "metadata": {},
   "source": [
    "## 7.1. Free fermionic system: two zero-modes"
   ]
  },
  {
   "cell_type": "markdown",
   "id": "c66972c1",
   "metadata": {},
   "source": [
    "As in the previous tutorial we aim to simultaneously diagonalise the $N\\times N$ matrix $A$ and transfer matrix $T$.<br>\n",
    "We will observe that free fermions have two zero modes, compared to one zero mode in free Majorana systems. The long distance behaviour of the free fermion model is dominated by the dispersion in the neighbourhood of the zero modes. Therefore, the free fermion system is really like having two copies of a free Majorana model. The results are in the same universality class as the $XX$ model."
   ]
  },
  {
   "cell_type": "markdown",
   "id": "433921c2",
   "metadata": {},
   "source": [
    "### 7.1.1. Functions for Hamiltonian and Translation operators"
   ]
  },
  {
   "cell_type": "markdown",
   "id": "0ff9386d",
   "metadata": {},
   "source": [
    "#### b) Building $N\\times N$ Hamiltonian matrix $A$ \n",
    "Particle perserving quadratic fermionic Hamiltonian."
   ]
  },
  {
   "cell_type": "code",
   "execution_count": 2,
   "id": "cf00763e",
   "metadata": {},
   "outputs": [],
   "source": [
    "def build_matrix_A(N, bc=1): # bc=1 (default) for PBC and bc=-1 for APBC\n",
    "    A = np.zeros((N, N)) \n",
    "    for n in range(N-1):\n",
    "        A[n, n+1] = -1\n",
    "        A[n+1, n] = -1\n",
    "    A[N-1,0] = -bc\n",
    "    A[0,N-1] = -bc\n",
    "    return A"
   ]
  },
  {
   "cell_type": "markdown",
   "id": "dc015637",
   "metadata": {},
   "source": [
    "#### a) Building translation operator $T_f$"
   ]
  },
  {
   "cell_type": "code",
   "execution_count": 3,
   "id": "f2a7525d",
   "metadata": {},
   "outputs": [],
   "source": [
    "def build_T_operator(N, bc=1): # bc=1 (default) for PBC and bc=-1 for APBC\n",
    "    T_op = np.zeros((N,N))\n",
    "    for n in range(N-1):\n",
    "        T_op[n,n+1] = 1\n",
    "        \n",
    "    T_op[N-1,0] = bc\n",
    "    return T_op"
   ]
  },
  {
   "cell_type": "markdown",
   "id": "2927fd9d",
   "metadata": {},
   "source": [
    "### 7.1.2. Diagonalization of  $A$ and $T$."
   ]
  },
  {
   "cell_type": "markdown",
   "id": "6633d083",
   "metadata": {},
   "source": [
    "We obtain the single particle energies $e_\\alpha$ and momenta $k_{\\alpha}$."
   ]
  },
  {
   "cell_type": "code",
   "execution_count": 4,
   "id": "7178f846",
   "metadata": {},
   "outputs": [],
   "source": [
    "def diagonalise_A_T(A, T_op):\n",
    "    N = int(np.shape(A)[0])\n",
    "    M = A.dot(np.eye(N) + 0.13*T_op)+0.05*T_op\n",
    "    D, U = eig(M)\n",
    "    \n",
    "    e = np.real(np.diag((U.conj().T).dot(A).dot(U)))\n",
    "    k = np.angle(np.diag((U.conj().T).dot(T_op).dot(U)))\n",
    "    \n",
    "    #sort from smaller to largest\n",
    "    ord_idx = np.argsort(e)\n",
    "    e = e[ord_idx]\n",
    "    k = k[ord_idx]\n",
    "    \n",
    "    return e, k"
   ]
  },
  {
   "cell_type": "code",
   "execution_count": 5,
   "id": "09f4d893",
   "metadata": {},
   "outputs": [],
   "source": [
    "N = 400\n",
    "\n",
    "#PERIODIC BC\n",
    "A_pbc = build_matrix_A(N, bc = 1)\n",
    "T_pbc = build_T_operator(N, bc = 1)\n",
    "e_pbc, k_pbc = diagonalise_A_T(A_pbc, T_pbc)\n",
    "#APERIODIC BC\n",
    "A_apbc = build_matrix_A(N, bc = -1)\n",
    "T_apbc = build_T_operator(N, bc = -1)\n",
    "e_apbc, k_apbc = diagonalise_A_T(A_apbc, T_apbc)"
   ]
  },
  {
   "cell_type": "code",
   "execution_count": 6,
   "id": "47ce0bb7",
   "metadata": {},
   "outputs": [
    {
     "data": {
      "image/png": "[encoded data removed]",
      "text/plain": [
       "<Figure size 432x288 with 1 Axes>"
      ]
     },
     "metadata": {
      "needs_background": "light"
     },
     "output_type": "display_data"
    }
   ],
   "source": [
    "plt.title(\"Single particle energies $e_m$ and momenta $k_m$ ($N=$%s)\" %(N))\n",
    "plt.grid()\n",
    "plt.ylabel(r\"Energy, $e_m$\", fontsize = 15)\n",
    "plt.xlabel(r\"Momentum, $k_m$\", fontsize = 15)\n",
    "plt.plot(k_pbc, e_pbc, 'x', ms=5, label = 'PBC')\n",
    "plt.plot(k_apbc, e_apbc, '+', ms=5, label = 'APBC')\n",
    "plt.text(-1.8,-0.15,\"O\", fontsize=25, color='red')\n",
    "plt.text(1.4,-0.15,\"O\", fontsize=25, color='red')\n",
    "plt.legend()\n",
    "plt.show()"
   ]
  },
  {
   "cell_type": "markdown",
   "id": "837f78cd",
   "metadata": {},
   "source": [
    "### 7.1.3. Correlation matrix $M$ for ground-state ($N$ sites)"
   ]
  },
  {
   "cell_type": "code",
   "execution_count": 7,
   "id": "150883bb",
   "metadata": {},
   "outputs": [],
   "source": [
    "def obtain_M(A, T_op):\n",
    "    N = int(np.shape(A)[0])\n",
    "    M = A.dot(np.eye(N) + 0.13*T_op)+0.05*T_op\n",
    "    D, U = eig(M)\n",
    "    \n",
    "    e = np.real(np.diag((U.conj().T).dot(A).dot(U)))\n",
    "    k = np.angle(np.diag((U.conj().T).dot(T_op).dot(U)))\n",
    "    \n",
    "    ord_idx = np.argsort(e)\n",
    "    e = e[ord_idx]\n",
    "    k = k[ord_idx]\n",
    "    U = U[:, ord_idx]\n",
    "    \n",
    "    M = (U.dot(np.diag(np.sign(e)))).dot(U.conj().T)\n",
    "    \n",
    "    return M"
   ]
  },
  {
   "cell_type": "code",
   "execution_count": 8,
   "id": "8b2c44c7",
   "metadata": {},
   "outputs": [
    {
     "name": "stdout",
     "output_type": "stream",
     "text": [
      "Is M successfully real? True\n",
      "Is M successfully symmetric? True\n"
     ]
    }
   ],
   "source": [
    "A_apbc = build_matrix_A(N, bc = -1)\n",
    "T_apbc = build_T_operator(N, bc = -1)\n",
    "\n",
    "M = obtain_M(A_apbc, T_apbc)\n",
    "\n",
    "print(\"Is M successfully real?\", np.allclose(M, np.real(M)))\n",
    "M = np.real(M) #cleaning neglible imaginary part\n",
    "print(\"Is M successfully symmetric?\", np.allclose(M, (M+M.conj().T)/2))"
   ]
  },
  {
   "cell_type": "markdown",
   "id": "5c200a7f",
   "metadata": {},
   "source": [
    "### 7.1.4. Reduced correlation matrix $M^A$"
   ]
  },
  {
   "cell_type": "code",
   "execution_count": 9,
   "id": "084d3f43",
   "metadata": {},
   "outputs": [],
   "source": [
    "L_max = N//2\n",
    "L_s = np.arange(1,L_max+1)\n",
    "\n",
    "M_A = M[0:L_max, 0:L_max]"
   ]
  },
  {
   "cell_type": "markdown",
   "id": "28490812",
   "metadata": {},
   "source": [
    "### 7.1.5. Entanglement entropy in ground-state"
   ]
  },
  {
   "cell_type": "markdown",
   "id": "20a07515",
   "metadata": {},
   "source": [
    "This model belongs to a different universality class with respects to the critical Ising model. The central charge in this model is $c = \\frac{\\#zero\\;modes}{2} = \\frac{2}{2}=1$.<br>"
   ]
  },
  {
   "cell_type": "code",
   "execution_count": 10,
   "id": "afb4d852",
   "metadata": {},
   "outputs": [],
   "source": [
    "def ent_entropy_fermi(M):\n",
    "    p = np.shape(M)[0]\n",
    "    entropy = np.zeros(p)\n",
    "    for n in range(p+1):\n",
    "        M_red = M[:n, :n]\n",
    "        u,v = eig(M_red)\n",
    "        for m in range(n):\n",
    "            x = u[m]\n",
    "            if abs(x) < 1:\n",
    "                entropy[n-1] -= (1+x)/2*np.log2((1+x)/2) + (1-x)/2*np.log2((1-x)/2)\n",
    "            elif abs(x) > 1+1e-5:\n",
    "                print(\"warning: (absolute) single particle eigenvalue > 1\")\n",
    "    return entropy"
   ]
  },
  {
   "cell_type": "code",
   "execution_count": 11,
   "id": "5be64839",
   "metadata": {},
   "outputs": [],
   "source": [
    "entropy_numerical = ent_entropy_fermi(M_A)"
   ]
  },
  {
   "cell_type": "code",
   "execution_count": 12,
   "id": "faa3ead1",
   "metadata": {},
   "outputs": [
    {
     "data": {
      "image/png": "[encoded data removed]",
      "text/plain": [
       "<Figure size 432x288 with 1 Axes>"
      ]
     },
     "metadata": {
      "needs_background": "light"
     },
     "output_type": "display_data"
    }
   ],
   "source": [
    "cft_ent_entropy = [1/3*(np.log2(N/np.pi*np.sin(n*np.pi/N)))+1.05 for n in L_s] #c = 1\n",
    "plt.title(r\"Entanglement entropy $S(\\rho)$\", fontsize = 20)\n",
    "plt.xscale('log')\n",
    "plt.grid()\n",
    "plt.ylabel(r\"Entropy, $S(\\rho)$\", fontsize = 15)\n",
    "plt.xlabel(r\"Parittion, $L$\", fontsize = 15)\n",
    "plt.plot(L_s, entropy_numerical, '.', ms=7, label = 'numerical')\n",
    "plt.plot(L_s, cft_ent_entropy, label = 'CFT prediction')\n",
    "plt.legend(loc = 'lower right', fontsize = 15)\n",
    "plt.show()"
   ]
  },
  {
   "cell_type": "markdown",
   "id": "4e965067",
   "metadata": {},
   "source": [
    "### 7.1.6. Entanglement spectrum ground-state"
   ]
  },
  {
   "cell_type": "code",
   "execution_count": 13,
   "id": "f3fdb273",
   "metadata": {},
   "outputs": [],
   "source": [
    "def configurations(n, fN):\n",
    "    \"\"\"\n",
    "    Generates the configurations $\\vec{x}.\n",
    "     n = configuration number\n",
    "     fN = size to pad to\n",
    "    \"\"\"\n",
    "    conf_int = bin(n).replace(\"0b\", \"\")\n",
    "    conf_list = [int(i) for i in conf_int]\n",
    "    conf_list = conf_list[::-1]\n",
    "    fill_list = [0 for i in range(fN-len(conf_list))]\n",
    "    conf_list += fill_list\n",
    "    return conf_list"
   ]
  },
  {
   "cell_type": "code",
   "execution_count": 14,
   "id": "63ba1223",
   "metadata": {},
   "outputs": [],
   "source": [
    "def ent_spectrum_fermi(M, fN):\n",
    "    mu, U = eig(M)\n",
    "    mu = np.sort(abs(mu))\n",
    "    N = len(mu)\n",
    "    if fN > N:\n",
    "        fN=N\n",
    "        \n",
    "    P = np.ones(2**fN).dot(np.prod((1+mu)/2))\n",
    "    for n in range(2**fN):\n",
    "        x = configurations(n, fN)\n",
    "        for m in range(fN):\n",
    "            if x[m] == 1:\n",
    "                P[n] *= (1-mu[m])/(1+mu[m])\n",
    "    return np.sort(P)"
   ]
  },
  {
   "cell_type": "code",
   "execution_count": 15,
   "id": "862199b4",
   "metadata": {},
   "outputs": [],
   "source": [
    "ent_spectrum = ent_spectrum_fermi(M_A, 10)\n",
    "Q = np.sort(-np.log(ent_spectrum))\n",
    "Q = (Q-Q[0])/(Q[1]-Q[0])"
   ]
  },
  {
   "cell_type": "code",
   "execution_count": 16,
   "id": "e248de16",
   "metadata": {},
   "outputs": [
    {
     "data": {
      "image/png": "[encoded data removed]",
      "text/plain": [
       "<Figure size 432x288 with 1 Axes>"
      ]
     },
     "metadata": {
      "needs_background": "light"
     },
     "output_type": "display_data"
    }
   ],
   "source": [
    "first = 15\n",
    "plt.title(r\"Entanglement spectrum\", fontsize = 20)\n",
    "plt.grid()\n",
    "plt.ylabel(r\"eigenvalues, $p$\", fontsize = 15)\n",
    "plt.xlabel(r\"index, $i$\", fontsize = 15)\n",
    "plt.plot(Q[:first],  marker = \"o\", color = \"b\", ms=8, markeredgecolor= \"black\", ls='')\n",
    "plt.show()"
   ]
  },
  {
   "cell_type": "markdown",
   "id": "c4f07f8a",
   "metadata": {},
   "source": [
    "## 7.2. Free fermionic system: more zero-modes"
   ]
  },
  {
   "cell_type": "markdown",
   "id": "17b089ea",
   "metadata": {},
   "source": [
    "We build a free fermion model with more zero modes. This will affect the ground-states and the universality class they belong to."
   ]
  },
  {
   "cell_type": "code",
   "execution_count": 17,
   "id": "4b0913ee",
   "metadata": {},
   "outputs": [],
   "source": [
    "def build_matrix_A_g(N, a=-1): # bc=1 (default) for PBC and bc=-1 for APBC\n",
    "    A = np.zeros((N, N)) \n",
    "    for n in range(N-1):\n",
    "        A[n, n+1] = -1\n",
    "        A[n+1, n] = -1\n",
    "    A[N-1,0] = -1\n",
    "    A[0,N-1] = -1\n",
    "    \n",
    "    for n in range(N-2):\n",
    "        A[n,n+2] = -a\n",
    "        A[n+2,n] = -a\n",
    "    \n",
    "    A[N-2,0] = -a\n",
    "    A[N-1, 1] = -a\n",
    "    A[0, N-2] = -a\n",
    "    A[1, N-1] = -a\n",
    "    return A"
   ]
  },
  {
   "cell_type": "markdown",
   "id": "a14ab4d8",
   "metadata": {},
   "source": [
    "### 7.2.1. Energy"
   ]
  },
  {
   "cell_type": "code",
   "execution_count": 18,
   "id": "ef5152f4",
   "metadata": {},
   "outputs": [],
   "source": [
    "N = 100\n",
    "\n",
    "A = build_matrix_A_g(N, -2)\n",
    "T_op = build_T_operator(N, -1)\n",
    "\n",
    "H = A.dot(np.eye(N) + 0.04*T_op)\n",
    "D, U = eig(H)\n",
    "\n",
    "e = np.real(np.diag((U.conj().T).dot(A).dot(U)))\n",
    "k = np.angle(np.diag((U.conj().T).dot(T_op).dot(U)))\n",
    "\n",
    "#sort from smaller to largest\n",
    "ord_idx = np.argsort(e)\n",
    "e = e[ord_idx]\n",
    "k = k[ord_idx]\n",
    "U = U[:,ord_idx]"
   ]
  },
  {
   "cell_type": "code",
   "execution_count": 19,
   "id": "b892445b",
   "metadata": {},
   "outputs": [
    {
     "data": {
      "image/png": "[encoded data removed]",
      "text/plain": [
       "<Figure size 432x288 with 1 Axes>"
      ]
     },
     "metadata": {
      "needs_background": "light"
     },
     "output_type": "display_data"
    }
   ],
   "source": [
    "plt.title(\"Single particle energies $e_m$ and momenta $k_m$ ($N=$%s)\" %(N))\n",
    "plt.grid()\n",
    "plt.ylabel(r\"Energy, $e_m$\", fontsize = 15)\n",
    "plt.xlabel(r\"Momentum, $k_m$\", fontsize = 15)\n",
    "plt.plot(k, e, 'x', ms=5)\n",
    "plt.text(-2.40,-0.45,\"O\", fontsize=25, color='red')\n",
    "plt.text(2,-0.45,\"O\", fontsize=25, color='red')\n",
    "plt.text(-0.75,-0.45,\"O\", fontsize=25, color='red')\n",
    "plt.text(0.4,-0.45,\"O\", fontsize=25, color='red')\n",
    "plt.show()"
   ]
  },
  {
   "cell_type": "markdown",
   "id": "18f91169",
   "metadata": {},
   "source": [
    "### 7.2.2. Ground-state correlation matrix"
   ]
  },
  {
   "cell_type": "code",
   "execution_count": 20,
   "id": "35f916a8",
   "metadata": {},
   "outputs": [
    {
     "name": "stdout",
     "output_type": "stream",
     "text": [
      "Is M successfully real? True\n",
      "Is M successfully symmetric? True\n"
     ]
    }
   ],
   "source": [
    "M = (U.dot(np.diag(np.sign(e)))).dot(U.conj().T)\n",
    "print(\"Is M successfully real?\", np.allclose(M, np.real(M)))\n",
    "M = np.real(M) #cleaning neglible imaginary part\n",
    "print(\"Is M successfully symmetric?\", np.allclose(M, (M+M.conj().T)/2))\n",
    "\n",
    "L_max = 50\n",
    "L_s = np.arange(1,L_max+1)\n",
    "M_A = M[0:L_max, 0:L_max]"
   ]
  },
  {
   "cell_type": "markdown",
   "id": "6dbab6e3",
   "metadata": {},
   "source": [
    "### 7.2.3. Entanglement entropy in ground-state"
   ]
  },
  {
   "cell_type": "code",
   "execution_count": 21,
   "id": "4931f1fe",
   "metadata": {},
   "outputs": [],
   "source": [
    "def ent_entropy_fermi(M):\n",
    "    p = np.shape(M)[0]\n",
    "    enter = True\n",
    "    entropy = np.zeros(p)\n",
    "    for n in range(p+1):\n",
    "        M_red = M[:n, :n]\n",
    "        u,v = eig(M_red)\n",
    "        for m in range(n):\n",
    "            x = u[m]\n",
    "            if abs(x) < 1:\n",
    "                #print(\"correct\")\n",
    "                entropy[n-1] -= (1+x)/2*np.log2((1+x)/2) + (1-x)/2*np.log2((1-x)/2)\n",
    "            elif abs(x) > 1+1e-8 and enter:\n",
    "                print(\"warning: (absolute) single particle eigenvalue > 1\")\n",
    "                enter = False\n",
    "    return entropy"
   ]
  },
  {
   "cell_type": "code",
   "execution_count": 22,
   "id": "7a4743a0",
   "metadata": {},
   "outputs": [
    {
     "name": "stdout",
     "output_type": "stream",
     "text": [
      "warning: (absolute) single particle eigenvalue > 1\n"
     ]
    }
   ],
   "source": [
    "entropy_numerical = ent_entropy_fermi(M_A)"
   ]
  },
  {
   "cell_type": "code",
   "execution_count": 23,
   "id": "9304d06b",
   "metadata": {},
   "outputs": [
    {
     "data": {
      "image/png": "[encoded data removed]",
      "text/plain": [
       "<Figure size 432x288 with 1 Axes>"
      ]
     },
     "metadata": {
      "needs_background": "light"
     },
     "output_type": "display_data"
    }
   ],
   "source": [
    "cft_ent_entropy = [2/3*(np.log2(N/np.pi*np.sin(n*np.pi/N)))+1.4 for n in L_s] #c = 2\n",
    "plt.title(r\"Entanglement entropy $S(\\rho)$\", fontsize = 20)\n",
    "plt.xscale('log')\n",
    "plt.grid()\n",
    "plt.ylabel(r\"Entropy, $S(\\rho)$\", fontsize = 15)\n",
    "plt.xlabel(r\"Parittion, $L$\", fontsize = 15)\n",
    "plt.plot(L_s, entropy_numerical, '.', ms=7, label = 'numerical')\n",
    "plt.plot(L_s, cft_ent_entropy, label = 'CFT prediction')\n",
    "plt.legend(loc = 'lower right', fontsize = 15)\n",
    "plt.show()"
   ]
  },
  {
   "cell_type": "code",
   "execution_count": null,
   "id": "b0132778",
   "metadata": {},
   "outputs": [],
   "source": []
  },
  {
   "cell_type": "code",
   "execution_count": null,
   "id": "e96422fb",
   "metadata": {},
   "outputs": [],
   "source": []
  }
 ],
 "metadata": {
  "kernelspec": {
   "display_name": "Python 3",
   "language": "python",
   "name": "python3"
  },
  "language_info": {
   "codemirror_mode": {
    "name": "ipython",
    "version": 3
   },
   "file_extension": ".py",
   "mimetype": "text/x-python",
   "name": "python",
   "nbconvert_exporter": "python",
   "pygments_lexer": "ipython3",
   "version": "3.8.8"
  }
 },
 "nbformat": 4,
 "nbformat_minor": 5
}
