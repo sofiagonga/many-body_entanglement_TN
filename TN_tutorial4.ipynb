{
 "cells": [
  {
   "cell_type": "markdown",
   "id": "59ef8379",
   "metadata": {},
   "source": [
    "### Many-body Entanglement and Tensor Networks\n",
    "Tutorials based on the 2017 Perimeter Scholar International Condensed Matter Review course taught by Guifre Vidal"
   ]
  },
  {
   "cell_type": "markdown",
   "id": "e1a6c9fc",
   "metadata": {},
   "source": [
    "# <span style=\"color:#0C45A9\">Python tutorial 4</span>"
   ]
  },
  {
   "cell_type": "markdown",
   "id": "03f2bc70",
   "metadata": {},
   "source": [
    "## 4.1. Power method and sparse multiplication"
   ]
  },
  {
   "cell_type": "markdown",
   "id": "cdaabfe9",
   "metadata": {},
   "source": [
    "### 4.1.1. Local $N=2$ quantum Ising Hamiltonian"
   ]
  },
  {
   "cell_type": "markdown",
   "id": "15d0ab81",
   "metadata": {},
   "source": [
    "We define the Hamiltonian for the quantum Ising model as per previous tutorials. We will only build it for $N=2$ and use this in the sparse multiplication method."
   ]
  },
  {
   "cell_type": "code",
   "execution_count": 1,
   "id": "903a9b8f",
   "metadata": {},
   "outputs": [],
   "source": [
    "import numpy as np\n",
    "\n",
    "def qIsingH_2(h, bc = 1): #bc = 1 PBC, =-1 APBC\n",
    "    I = np.eye(2) #2x2 identity matrix\n",
    "    X = np.array([[0,1],[1,0]]) #Pauli-X\n",
    "    Z = np.array([[1,0],[0,-1]]) #Pauli-Z\n",
    "    XX = np.kron(X,X) \n",
    "    H = -XX - (h/2)*(np.kron(Z,I) + np.kron(I,Z)) #Hamiltonian for N=2\n",
    "    \n",
    "    return H"
   ]
  },
  {
   "cell_type": "code",
   "execution_count": 2,
   "id": "5a1ed832",
   "metadata": {},
   "outputs": [],
   "source": [
    "H_2 = qIsingH_2(1)\n",
    "\n",
    "D, U = np.linalg.eig(H_2) #diagonalise fully\n",
    "E_shift = np.sort(D)[-1]\n",
    "\n",
    "H_2 -= E_shift*np.eye(4)"
   ]
  },
  {
   "cell_type": "markdown",
   "id": "b43a91ba",
   "metadata": {},
   "source": [
    "### 4.1.2. Sparse multiplication of local Hamiltonian"
   ]
  },
  {
   "cell_type": "markdown",
   "id": "6355b454",
   "metadata": {},
   "source": [
    "The function below takes in an arbitrary length vector $\\Psi$ and acts on it with the local term $H$, which corresponds to the $N=2$ Ising model Hamiltonian."
   ]
  },
  {
   "cell_type": "code",
   "execution_count": 3,
   "id": "15f4bf9e",
   "metadata": {},
   "outputs": [],
   "source": [
    "def sparse_multiplication(Psi, H):\n",
    "    L = len(Psi)  # Dimension of the vector space\n",
    "    N = round(np.log2(L))  # Number of spins\n",
    "    HPsi = np.zeros(L)\n",
    "    for n in range(1, (N+1)):\n",
    "        Psi = np.reshape(Psi,(4,2**(N-2)))\n",
    "        HPsi = np.reshape(HPsi,(4,2**(N-2)))\n",
    "        HPsi += H.dot(Psi)                 \n",
    "        Psi = np.reshape(Psi,(2,2**(N-1)))\n",
    "        HPsi = np.reshape(HPsi,(2,2**(N-1)))\n",
    "        Psi = Psi.transpose(1,0)\n",
    "        HPsi = HPsi.transpose(1,0)\n",
    "    \n",
    "    Psi = np.reshape(Psi,L)\n",
    "    HPsi = np.reshape(HPsi, L)\n",
    "    return HPsi"
   ]
  },
  {
   "cell_type": "markdown",
   "id": "6e4eb216",
   "metadata": {},
   "source": [
    "### 4.1.3. Power method"
   ]
  },
  {
   "cell_type": "code",
   "execution_count": null,
   "id": "0bd160da",
   "metadata": {},
   "outputs": [],
   "source": [
    "def power_method(num_steps, Psi, H_2):\n",
    "    E_evolution = []\n",
    "    for step in range(num_steps):\n",
    "        HPsi = sparse_multiplication(Psi, H_2)\n",
    "        E_step = np.real((Psi.conj().T).dot(HPsi))\n",
    "        E_evolution.append(E_step)\n",
    "        Psi = HPsi/np.linalg.norm(HPsi)\n",
    "    return np.array(E_evolution)"
   ]
  },
  {
   "cell_type": "markdown",
   "id": "60099693",
   "metadata": {},
   "source": [
    "### 4.1.4. Evaluate and plot"
   ]
  },
  {
   "cell_type": "code",
   "execution_count": 4,
   "id": "17ce9670",
   "metadata": {},
   "outputs": [],
   "source": [
    "N = 20\n",
    "Psi_0 = np.random.rand(2**N)\n",
    "Psi_0 = Psi_0/np.linalg.norm(Psi_0)\n",
    "\n",
    "num_steps = 30\n",
    "E_evolution = power_method(num_steps, Psi_0, H_2)\n",
    "E_evolution += E_shift*N"
   ]
  },
  {
   "cell_type": "code",
   "execution_count": 6,
   "id": "f7bdc0f1",
   "metadata": {},
   "outputs": [
    {
     "data": {
      "image/png": "[encoded data removed]",
      "text/plain": [
       "<Figure size 792x576 with 1 Axes>"
      ]
     },
     "metadata": {
      "needs_background": "light"
     },
     "output_type": "display_data"
    }
   ],
   "source": [
    "import matplotlib.pyplot as plt\n",
    "\n",
    "import warnings\n",
    "warnings.filterwarnings('ignore')\n",
    "\n",
    "plt.title(\"Power method with sparse multiplication\")\n",
    "plt.grid()\n",
    "plt.ylabel(\"Energy, $E$\")\n",
    "plt.xlabel(\"power method step\")\n",
    "plt.plot(np.arange(1,num_steps+1), E_evolution, ls = '-', marker = '.')\n",
    "plt.rcParams[\"figure.figsize\"] = (11,8)\n",
    "plt.show()"
   ]
  }
 ],
 "metadata": {
  "kernelspec": {
   "display_name": "Python 3 (ipykernel)",
   "language": "python",
   "name": "python3"
  },
  "language_info": {
   "codemirror_mode": {
    "name": "ipython",
    "version": 3
   },
   "file_extension": ".py",
   "mimetype": "text/x-python",
   "name": "python",
   "nbconvert_exporter": "python",
   "pygments_lexer": "ipython3",
   "version": "3.9.7"
  }
 },
 "nbformat": 4,
 "nbformat_minor": 5
}
