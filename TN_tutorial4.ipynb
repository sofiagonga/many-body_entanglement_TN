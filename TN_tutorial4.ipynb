{
 "cells": [
  {
   "cell_type": "markdown",
   "id": "59ef8379",
   "metadata": {},
   "source": [
    "### Many-body Entanglement and Tensor Networks\n",
    "Tutorials based on the 2017 Perimeter Scholar International Condensed Matter Review course taught by Guifre Vidal"
   ]
  },
  {
   "cell_type": "markdown",
   "id": "e1a6c9fc",
   "metadata": {},
   "source": [
    "# <span style=\"color:#0C45A9\">Python tutorial 4</span>"
   ]
  },
  {
   "cell_type": "markdown",
   "id": "ed2197b6",
   "metadata": {},
   "source": [
    "In this tutorial we will use the power method and sparse multiplication method learned in class. The first section of the tutorial (4.1.) will explore how to use this and we will show that we approach the ground-state.<br>\n",
    "In the second part of the tutorial (4.2.) we will use these methods to increase the number of spins in our simulation with respects to the previous tutorial and observe a reduction in finite size effects."
   ]
  },
  {
   "cell_type": "markdown",
   "id": "03f2bc70",
   "metadata": {},
   "source": [
    "## 4.1. Power method and sparse multiplication"
   ]
  },
  {
   "cell_type": "markdown",
   "id": "d9a3c4aa",
   "metadata": {},
   "source": [
    "### 4.1.1. Local $N=2$ quantum Ising Hamiltonian"
   ]
  },
  {
   "cell_type": "markdown",
   "id": "15d0ab81",
   "metadata": {},
   "source": [
    "We define the Hamiltonian for the quantum Ising model as per previous tutorials. We will only build it for $N=2$ and use this in the sparse multiplication method."
   ]
  },
  {
   "cell_type": "code",
   "execution_count": 1,
   "id": "903a9b8f",
   "metadata": {},
   "outputs": [],
   "source": [
    "import numpy as np\n",
    "\n",
    "def qIsingH_2(h):\n",
    "    I = np.eye(2) #2x2 identity matrix\n",
    "    X = np.array([[0,1],[1,0]]) #Pauli-X\n",
    "    Z = np.array([[1,0],[0,-1]]) #Pauli-Z\n",
    "    XX = np.kron(X,X) \n",
    "    \n",
    "    #Hamiltonian for N=2 but with factor of 1/2 in field term since each spin will appear twice\n",
    "    H = -XX - (h/2)*(np.kron(Z,I) + np.kron(I,Z)) \n",
    "    \n",
    "    return H"
   ]
  },
  {
   "cell_type": "code",
   "execution_count": 2,
   "id": "fc11a513",
   "metadata": {},
   "outputs": [],
   "source": [
    "H_2 = qIsingH_2(1)\n",
    "\n",
    "D, U = np.linalg.eig(H_2) #diagonalise fully\n",
    "E_shift = np.sort(D)[-1]\n",
    "\n",
    "H_2 -= E_shift*np.eye(4)"
   ]
  },
  {
   "cell_type": "markdown",
   "id": "80f81e32",
   "metadata": {},
   "source": [
    "### 4.1.2. Sparse multiplication of local Hamiltonian"
   ]
  },
  {
   "cell_type": "markdown",
   "id": "b41898c2",
   "metadata": {},
   "source": [
    "The function below takes in an arbitrary length vector $\\Psi$ and acts on it with the local term $H$, which corresponds to the $N=2$ Ising model Hamiltonian.<br>\n",
    "\n",
    "This is done by (step 1) reshaping our $2^N$ vector state $\\Psi$ into a $(4 \\times 2^{N-2})$ matrix so that it can be multiplied by the $(4\\times4)$ Hamiltonian $H$. We then (step 2) reshape and transpose the resulting matrix so that all the sites are shifted and we proceed to apply the local Hamiltonain term on all the sites: <br>\n",
    "<img src=\"img/sparse_mult.jpg\" style=\"width:400px;height:250px;\">"
   ]
  },
  {
   "cell_type": "code",
   "execution_count": 3,
   "id": "54176d09",
   "metadata": {},
   "outputs": [],
   "source": [
    "def sparse_multiplication(Psi, H):\n",
    "    L = len(Psi)  # Dimension of the vector space\n",
    "    N = round(np.log2(L))  # Number of spins\n",
    "    HPsi = np.zeros(L)\n",
    "    for n in range(1, (N+1)):\n",
    "        #reshape so that first dimension is 4\n",
    "        Psi = np.reshape(Psi,(4,2**(N-2)))\n",
    "        HPsi = np.reshape(HPsi,(4,2**(N-2)))\n",
    "        #multiply\n",
    "        HPsi += H.dot(Psi)     \n",
    "        \n",
    "        Psi = np.reshape(Psi,(2,2**(N-1)))\n",
    "        HPsi = np.reshape(HPsi,(2,2**(N-1)))\n",
    "        Psi = Psi.transpose(1,0)\n",
    "        HPsi = HPsi.transpose(1,0)\n",
    "    \n",
    "    HPsi = np.reshape(HPsi, L)\n",
    "    return HPsi"
   ]
  },
  {
   "cell_type": "markdown",
   "id": "fa624e34",
   "metadata": {},
   "source": [
    "### 4.1.3. Power method"
   ]
  },
  {
   "cell_type": "code",
   "execution_count": 4,
   "id": "96a6797d",
   "metadata": {},
   "outputs": [],
   "source": [
    "def power_method(num_steps, Psi, H_2):\n",
    "    E_evolution = []\n",
    "    for step in range(num_steps):\n",
    "        HPsi = sparse_multiplication(Psi, H_2)\n",
    "        E_step = np.real((Psi.conj().T).dot(HPsi))\n",
    "        E_evolution.append(E_step)\n",
    "        Psi = HPsi/np.linalg.norm(HPsi)\n",
    "    return np.array(E_evolution)"
   ]
  },
  {
   "cell_type": "markdown",
   "id": "9dd28208",
   "metadata": {},
   "source": [
    "### 4.1.4. Evaluate and plot"
   ]
  },
  {
   "cell_type": "code",
   "execution_count": 5,
   "id": "39a068b0",
   "metadata": {},
   "outputs": [],
   "source": [
    "N = 20\n",
    "Psi_0 = np.random.rand(2**N)\n",
    "Psi_0 = Psi_0/np.linalg.norm(Psi_0)\n",
    "\n",
    "num_steps = 30\n",
    "E_evolution = power_method(num_steps, Psi_0, H_2)\n",
    "E_evolution += E_shift*N"
   ]
  },
  {
   "cell_type": "code",
   "execution_count": 6,
   "id": "9f87d890",
   "metadata": {},
   "outputs": [
    {
     "data": {
      "image/png": "[encoded data removed]",
      "text/plain": [
       "<Figure size 432x288 with 1 Axes>"
      ]
     },
     "metadata": {
      "needs_background": "light"
     },
     "output_type": "display_data"
    }
   ],
   "source": [
    "import matplotlib.pyplot as plt\n",
    "\n",
    "import warnings\n",
    "warnings.filterwarnings('ignore')\n",
    "\n",
    "plt.title(\"Power method with sparse multiplication\")\n",
    "plt.grid()\n",
    "plt.ylabel(\"Energy, $E$\")\n",
    "plt.xlabel(\"power method step\")\n",
    "plt.plot(np.arange(1,num_steps+1), E_evolution, ls = '-', marker = '.')\n",
    "plt.rcParams[\"figure.figsize\"] = (11,8)\n",
    "plt.show()"
   ]
  },
  {
   "cell_type": "markdown",
   "id": "f1e922ac",
   "metadata": {},
   "source": [
    "## 4.2. Lanczos method and conformal data"
   ]
  },
  {
   "cell_type": "markdown",
   "id": "ab062896",
   "metadata": {},
   "source": [
    "### 4.2.1. Sparse multiplication of $H+T$"
   ]
  },
  {
   "cell_type": "markdown",
   "id": "461870e9",
   "metadata": {},
   "source": [
    "As in Tutorial 3, we define our Hamiltonian to be a linear combination of $H$ and $T$. We will do the same here and multiply this by $\\Psi$."
   ]
  },
  {
   "cell_type": "code",
   "execution_count": 7,
   "id": "b63d7b5b",
   "metadata": {},
   "outputs": [],
   "source": [
    "def sparse_multiplication_TH(Psi):\n",
    "    L = len(Psi)  # Dimension of the vector space\n",
    "    N = round(np.log2(L))  # Number of spins\n",
    "    HPsi = np.zeros(L)\n",
    "    for n in range(1, (N+1)):\n",
    "        Psi = np.reshape(Psi,(4,2**(N-2)))\n",
    "        HPsi = np.reshape(HPsi,(4,2**(N-2)))\n",
    "        HPsi += H_2.dot(Psi)                 \n",
    "        Psi = np.reshape(Psi,(2,2**(N-1)))\n",
    "        HPsi = np.reshape(HPsi,(2,2**(N-1)))\n",
    "        Psi = Psi.transpose(1,0)\n",
    "        HPsi = HPsi.transpose(1,0)\n",
    "    \n",
    "    TPsi = np.reshape(Psi,(2,2**(N-1)))\n",
    "    TPsi = TPsi.transpose(1,0) #action of T \n",
    "    TPsi = np.reshape(TPsi, L)\n",
    "    \n",
    "    HPsi = np.reshape(HPsi, L)\n",
    "    \n",
    "    HPsi_f = HPsi + 0.001*TPsi\n",
    "    return HPsi_f"
   ]
  },
  {
   "cell_type": "markdown",
   "id": "efc8e1f5",
   "metadata": {},
   "source": [
    "### 4.2.2. Functions to evaluate $E_{\\alpha}$, $k_{\\alpha}$, $p_{\\alpha}$"
   ]
  },
  {
   "cell_type": "markdown",
   "id": "bf167c6d",
   "metadata": {},
   "source": [
    "As in Tutorial 3 this is: <br>\n",
    "<center>$E = \\langle \\Psi_{\\alpha}|~H~|\\Psi_{\\alpha}\\rangle,~~~~ k = angle(\\langle \\Psi_{\\alpha}|~T~|\\Psi_{\\alpha}\\rangle), ~~~~ p=\\frac{(1-\\langle \\Psi_{\\alpha}|~S~|\\Psi_{\\alpha}\\rangle)}{2}$"
   ]
  },
  {
   "cell_type": "code",
   "execution_count": 8,
   "id": "e9f97571",
   "metadata": {},
   "outputs": [],
   "source": [
    "def evaluate_E(Psi, H):\n",
    "    L = len(Psi)  # Dimension of the vector space\n",
    "    N = round(np.log2(L))  # Number of spins\n",
    "    HPsi = np.zeros(L)\n",
    "    H = H.astype('complex128')\n",
    "    for n in range(1, (N+1)):\n",
    "        Psi = np.reshape(Psi,(4,2**(N-2)))\n",
    "        HPsi = np.reshape(HPsi,(4,2**(N-2)))\n",
    "        HPsi = HPsi+ H.dot(Psi)                 \n",
    "        Psi = np.reshape(Psi,(2,2**(N-1)))\n",
    "        HPsi = np.reshape(HPsi,(2,2**(N-1)))\n",
    "        Psi = Psi.transpose(1,0)\n",
    "        HPsi = HPsi.transpose(1,0)\n",
    "    \n",
    "    Psi = np.reshape(Psi, L)\n",
    "    HPsi = np.reshape(HPsi, L)\n",
    "    \n",
    "    E = np.real(Psi.conj().T.dot(HPsi))\n",
    "    \n",
    "    return E"
   ]
  },
  {
   "cell_type": "code",
   "execution_count": 9,
   "id": "98a7394f",
   "metadata": {},
   "outputs": [],
   "source": [
    "def evaluate_k(Psi):\n",
    "    L = len(Psi)  # Dimension of the vector space\n",
    "    N = round(np.log2(L))  # Number of spins\n",
    "    TPsi = np.reshape(Psi, (2,2**(N-1)))\n",
    "    TPsi = TPsi.transpose(1,0) #action of T operator\n",
    "    TPsi = np.reshape(TPsi, L)\n",
    "    \n",
    "    k = np.angle(Psi.conj().T.dot(TPsi))\n",
    "\n",
    "    return k"
   ]
  },
  {
   "cell_type": "code",
   "execution_count": 10,
   "id": "c7fdcc46",
   "metadata": {},
   "outputs": [],
   "source": [
    "def evaluate_p(Psi):\n",
    "    L = len(Psi)  # Dimension of the vector space\n",
    "    N = round(np.log2(L))  # Number of spins\n",
    "    SPsi = Psi\n",
    "    Z = np.array([[1,0],[0,-1]])\n",
    "    \n",
    "    for n in range(1, (N+1)):\n",
    "        SPsi = np.reshape(SPsi,(2,2**(N-1)))\n",
    "        SPsi = Z.dot(SPsi)               \n",
    "        SPsi = SPsi.transpose(1,0)\n",
    "    \n",
    "    SPsi = np.reshape(SPsi, L)\n",
    "    \n",
    "    p = np.round((1 - np.real(Psi.conj().T.dot(SPsi)))/2)\n",
    "    \n",
    "    return p"
   ]
  },
  {
   "cell_type": "markdown",
   "id": "9d466768",
   "metadata": {},
   "source": [
    "### 4.2.3. Sparse diagonalisation of a linear operator"
   ]
  },
  {
   "cell_type": "markdown",
   "id": "c6fbdd91",
   "metadata": {},
   "source": [
    "The sparse eigenvalue solving function _scipy.sparse.linalg.eigs()_ does not need to know the individual entries of a matrix to solve the linear system. IT only require the computation of matrix vector products, $Av$ where $v$ is a dense vector. The Python class _scipy.sparse.linalg.LinearOperator_ serves as an abstract interface between iterative solvers and matrix-like objects."
   ]
  },
  {
   "cell_type": "code",
   "execution_count": 11,
   "id": "118e810c",
   "metadata": {},
   "outputs": [],
   "source": [
    "N = 20\n",
    "\n",
    "from scipy.sparse.linalg import LinearOperator\n",
    "TH = LinearOperator((2**N,2**N), matvec = sparse_multiplication_TH)"
   ]
  },
  {
   "cell_type": "code",
   "execution_count": 12,
   "id": "4d34569d",
   "metadata": {},
   "outputs": [],
   "source": [
    "num_states = 12\n",
    "from scipy.sparse.linalg import eigs\n",
    "D, Psi = eigs(TH, k = num_states, which = 'LM')"
   ]
  },
  {
   "cell_type": "code",
   "execution_count": 13,
   "id": "4b2c5d3d",
   "metadata": {},
   "outputs": [
    {
     "name": "stdout",
     "output_type": "stream",
     "text": [
      "Ground-state energy: -53.775260933826736\n"
     ]
    }
   ],
   "source": [
    "E = []\n",
    "k = []\n",
    "p = []\n",
    "\n",
    "for state in range(num_states):\n",
    "    E.append(evaluate_E(Psi[:,state], H_2))\n",
    "    k.append(evaluate_k(Psi[:,state]))\n",
    "    p.append(evaluate_p(Psi[:,state]))\n",
    "    \n",
    "#sort from smaller to largest\n",
    "ord_idx = np.argsort(E)\n",
    "E = np.array(E)[ord_idx]\n",
    "k = np.array(k)[ord_idx] \n",
    "p = np.array(p)[ord_idx]\n",
    "\n",
    "print(\"Ground-state energy:\", E[0])"
   ]
  },
  {
   "cell_type": "markdown",
   "id": "3e2693ad",
   "metadata": {},
   "source": [
    "### 4.2.4. Theoretical and numerical CFT data"
   ]
  },
  {
   "cell_type": "markdown",
   "id": "d3fb32d5",
   "metadata": {},
   "source": [
    "It is true for any CFT that $\\Delta_0 = S_0 = 0$ and $\\Delta_T = S_T = 2$ (corresponding to stress-energy tensor). <br>\n",
    "We can also use the relation: ${\\Delta_{\\alpha} = (\\Delta_T-\\Delta_0)\\frac{E_{\\alpha}-E_0}{E_T-E_0}+\\Delta_0} = 2\\frac{E_{\\alpha}-E_0}{E_T-E_0}$ to find the resting scaling dimensions."
   ]
  },
  {
   "cell_type": "code",
   "execution_count": 14,
   "id": "e942b9e5",
   "metadata": {},
   "outputs": [
    {
     "name": "stdout",
     "output_type": "stream",
     "text": [
      "Stress-energy tensor eigenvalue number: 5\n"
     ]
    }
   ],
   "source": [
    "k_T = 4*np.pi/N\n",
    "\n",
    "#obtain the eigenstate number corresponding to k_T to obtain E_T\n",
    "N_T = 0\n",
    "for n in range(num_states):\n",
    "    if abs(k[n]-k_T) < 1e-4:\n",
    "        if N_T == 0:\n",
    "            N_T = n\n",
    "print(\"Stress-energy tensor eigenvalue number:\", N_T)"
   ]
  },
  {
   "cell_type": "code",
   "execution_count": 15,
   "id": "983df348",
   "metadata": {},
   "outputs": [
    {
     "name": "stdout",
     "output_type": "stream",
     "text": [
      "Scaling dimension: [0.         0.1259684  1.00619396 1.1290606  1.1290606  2.\n",
      " 2.         2.         2.         2.10745334 2.10745334 2.1321528 ] \n",
      "Conformal spin: [ 0.  0.  0.  1. -1.  2. -2.  1. -1.  2. -2.  0.]\n"
     ]
    }
   ],
   "source": [
    "scaling_dim = 2*(E-E[0])/(E[N_T]-E[0])\n",
    "conf_spin = k/(2*np.pi)*N\n",
    "print('Scaling dimension: %s \\nConformal spin: %s' %(scaling_dim, conf_spin))"
   ]
  },
  {
   "cell_type": "code",
   "execution_count": 16,
   "id": "d632bf28",
   "metadata": {},
   "outputs": [],
   "source": [
    "th_scaling_dim = [0, 1/8, 1, 1+1/8, 1+1/8, 2, 2, 2, 2, 2+1/8, 2+1/8, 2+1/8]\n",
    "th_parity = [0, 1, 0, 1, 1, 0, 0, 0, 0, 1, 1, 1]\n",
    "th_conf_spin = [0,  0,  0,  1, -1,  2, -2,  1, -1,  2, -2,  0]"
   ]
  },
  {
   "cell_type": "markdown",
   "id": "b8b11db8",
   "metadata": {},
   "source": [
    "###  4.2.5. Plot theory vs numerical CFT data comparison"
   ]
  },
  {
   "cell_type": "code",
   "execution_count": 17,
   "id": "65d73065",
   "metadata": {},
   "outputs": [
    {
     "data": {
      "text/plain": [
       "<matplotlib.legend.Legend at 0x206c7ae24c0>"
      ]
     },
     "execution_count": 17,
     "metadata": {},
     "output_type": "execute_result"
    },
    {
     "data": {
      "image/png": "[encoded data removed]",
      "text/plain": [
       "<Figure size 1296x648 with 2 Axes>"
      ]
     },
     "metadata": {
      "needs_background": "light"
     },
     "output_type": "display_data"
    }
   ],
   "source": [
    "import matplotlib.pyplot as plt\n",
    "\n",
    "fig, (ax1, ax2) = plt.subplots(1, 2, layout=\"constrained\", figsize=(18, 9))\n",
    "fig.suptitle(r'PBC Ising CFT numerical vs theoretical data for $N=20$'+' \\n', fontsize=30)\n",
    "ax1.set_xlabel(r\"conformal spin, $S_{\\alpha}$\", fontsize=20)\n",
    "ax2.set_xlabel(r\"conformal spin, $S_{\\alpha}$\", fontsize=20)\n",
    "ax1.set_ylabel(r\"scaling dimension, $\\Delta_{\\alpha}$\", fontsize=20)\n",
    "ax2.set_ylabel(r\"scaling dimension, $\\Delta_{\\alpha}$\", fontsize=20)\n",
    "ax1.set_title(r'Even parity, $p=0$', fontsize=25)\n",
    "ax2.set_title(r'Odd parity, $p=1$', fontsize=25)\n",
    "ax1.tick_params(axis='both', labelsize=18)\n",
    "ax2.tick_params(axis='both', labelsize=18)\n",
    "ax1.grid()\n",
    "ax2.grid()\n",
    "ax1.set_xlim([-3, 3])\n",
    "ax2.set_xlim([-3, 3])\n",
    "ax1.set_ylim([-0.2, 2.8])\n",
    "ax2.set_ylim([-0.2, 2.8])\n",
    "ax1.text(0.07,1.07,r\"$\\epsilon$ energy density\", fontsize=20, color='grey')\n",
    "ax1.text(0.07,0.07,r\"$\\mathbb{1}$ identity\", fontsize=20, color='grey')\n",
    "ax2.text(0.07,1/8+0.07,r\"$\\sigma$ spin\", fontsize=20, color='grey')\n",
    "\n",
    "for i in range(len(th_parity)):\n",
    "    if th_parity[i] == 0:\n",
    "        ax1.plot(th_conf_spin[i], th_scaling_dim[i], marker = \"s\", color = \"y\", markeredgecolor= \"black\", ms=15)\n",
    "    elif th_parity[i] == 1:\n",
    "        ax2.plot(th_conf_spin[i], th_scaling_dim[i], marker = \"s\", color = \"y\", markeredgecolor= \"black\", ms=15)\n",
    "\n",
    "\n",
    "for i in range(num_states):\n",
    "    if p[i] == 0:\n",
    "        ax1.plot(conf_spin[i], scaling_dim[i], marker = \"o\", color = \"b\", ms=10)\n",
    "    elif p[i] == 1:\n",
    "        ax2.plot(conf_spin[i], scaling_dim[i], marker = \"o\", color = \"b\", ms=10)\n",
    "\n",
    "from matplotlib.lines import Line2D\n",
    "from matplotlib.patches import Patch\n",
    "legend_elements = [Line2D([0], [0], marker='o', color='w', label='Numerical',\n",
    "                          markerfacecolor='b', markersize=15),\n",
    "                   Patch(facecolor='y', edgecolor='black',\n",
    "                         label='Theory')]\n",
    "\n",
    "        \n",
    "ax1.legend(handles=legend_elements, fontsize=15)\n",
    "ax2.legend(handles=legend_elements, fontsize=15)"
   ]
  }
 ],
 "metadata": {
  "kernelspec": {
   "display_name": "Python 3",
   "language": "python",
   "name": "python3"
  },
  "language_info": {
   "codemirror_mode": {
    "name": "ipython",
    "version": 3
   },
   "file_extension": ".py",
   "mimetype": "text/x-python",
   "name": "python",
   "nbconvert_exporter": "python",
   "pygments_lexer": "ipython3",
   "version": "3.8.8"
  }
 },
 "nbformat": 4,
 "nbformat_minor": 5
}
