{
 "cells": [
  {
   "cell_type": "markdown",
   "id": "59ef8379",
   "metadata": {},
   "source": [
    "### Many-body Entanglement and Tensor Networks\n",
    "Tutorials based on the 2017 Perimeter Scholar International Condensed Matter Review course taught by Guifre Vidal"
   ]
  },
  {
   "cell_type": "markdown",
   "id": "e1a6c9fc",
   "metadata": {},
   "source": [
    "# <span style=\"color:#0C45A9\">Python tutorial 1</span>"
   ]
  },
  {
   "cell_type": "markdown",
   "id": "f39200a0",
   "metadata": {},
   "source": [
    "This notebook will first walk you through some Python basics. Then it will show you how to work with tensors and do certain tensor operations, as well as solving the eigenvalue problem."
   ]
  },
  {
   "cell_type": "markdown",
   "id": "03f2bc70",
   "metadata": {},
   "source": [
    "## 1.1. Number types"
   ]
  },
  {
   "cell_type": "code",
   "execution_count": 1,
   "id": "3ca2ea24",
   "metadata": {},
   "outputs": [
    {
     "name": "stdout",
     "output_type": "stream",
     "text": [
      "The type of 'a' is:  int\n",
      "The type of 'b' is:  float\n",
      "The type of 'c' is:  complex\n"
     ]
    }
   ],
   "source": [
    "a = 1 #integer\n",
    "print(\"The type of 'a' is: \", type(a).__name__)\n",
    "\n",
    "b = 3.14 #float\n",
    "print(\"The type of 'b' is: \", type(b).__name__)\n",
    "\n",
    "c = 1 + 2j #complex\n",
    "print(\"The type of 'c' is: \", type(c).__name__)"
   ]
  },
  {
   "cell_type": "markdown",
   "id": "c44356de",
   "metadata": {},
   "source": [
    "### 1.1.2. More on complex numbers"
   ]
  },
  {
   "cell_type": "code",
   "execution_count": 2,
   "id": "ecb37b73",
   "metadata": {},
   "outputs": [
    {
     "name": "stdout",
     "output_type": "stream",
     "text": [
      "'c' has real part 1.0, and imaginary part 2.0\n"
     ]
    }
   ],
   "source": [
    "print(\"'c' has real part %s, and imaginary part %s\" %(c.real, c.imag))"
   ]
  },
  {
   "cell_type": "markdown",
   "id": "69c375d4",
   "metadata": {},
   "source": [
    "Multiplying complex numbers is straight-forward"
   ]
  },
  {
   "cell_type": "code",
   "execution_count": 3,
   "id": "ca2f1fce",
   "metadata": {},
   "outputs": [
    {
     "name": "stdout",
     "output_type": "stream",
     "text": [
      "The product of (5+3j) and (2+4j) is (-2+26j)\n"
     ]
    }
   ],
   "source": [
    "z1 = complex(5,3) #alternative definition of complex numbers on Python\n",
    "z2 = complex(2,4)\n",
    "\n",
    "z3 = z1*z2\n",
    "print(\"The product of %s and %s is %s\" %(z1,z2,z3))"
   ]
  },
  {
   "cell_type": "markdown",
   "id": "ce32bebb",
   "metadata": {},
   "source": [
    "Working with polar coordinates is also easy"
   ]
  },
  {
   "cell_type": "code",
   "execution_count": 4,
   "id": "e7ab1cd1",
   "metadata": {},
   "outputs": [
    {
     "name": "stdout",
     "output_type": "stream",
     "text": [
      "The product of (5+3j) and (2+4j) is (-1.9999999999999951+26.000000000000004j)\n"
     ]
    }
   ],
   "source": [
    "import cmath\n",
    "\n",
    "r1, theta1 = cmath.polar(z1)\n",
    "r2, theta2 = cmath.polar(z2)\n",
    "\n",
    "r3 = r1*r2\n",
    "theta3 = theta1 + theta2\n",
    "z3 = cmath.rect(r3,theta3)\n",
    "\n",
    "print(\"The product of %s and %s is %s\" %(z1,z2,z3))"
   ]
  },
  {
   "cell_type": "markdown",
   "id": "af335cdb",
   "metadata": {},
   "source": [
    "## 1.2. Vectors, matrices and tensors"
   ]
  },
  {
   "cell_type": "markdown",
   "id": "29f3e416",
   "metadata": {},
   "source": [
    "It is convenient to work with the _numpy_ library and built-in _numpy_ functions."
   ]
  },
  {
   "cell_type": "code",
   "execution_count": 5,
   "id": "c767e11f",
   "metadata": {},
   "outputs": [
    {
     "name": "stdout",
     "output_type": "stream",
     "text": [
      "Vector: [1 2 3]\n",
      "Random vector:  [0.04146637 0.06787135 0.52974484]\n",
      "Complex vector:  [0.03952222+0.63381722j 0.43064786+0.19304179j 0.8521259 +0.96060921j]\n"
     ]
    }
   ],
   "source": [
    "import numpy as np\n",
    "\n",
    "vect = np.array([1,2,3])\n",
    "print(\"Vector:\", vect)\n",
    "\n",
    "#random vector\n",
    "random_vect = np.random.rand(3) #the input is the dimensions of the indeces (just one value for vectors)\n",
    "print(\"Random vector: \", random_vect)\n",
    "\n",
    "#complex vectors\n",
    "complex_vect = np.random.rand(3) + np.random.rand(3)*1j\n",
    "print(\"Complex vector: \", complex_vect)"
   ]
  },
  {
   "cell_type": "markdown",
   "id": "e7f9eaf0",
   "metadata": {},
   "source": [
    "This can be easily generalised to matrices and higher rank tensors:"
   ]
  },
  {
   "cell_type": "code",
   "execution_count": 6,
   "id": "b60c5320",
   "metadata": {},
   "outputs": [
    {
     "name": "stdout",
     "output_type": "stream",
     "text": [
      "Random 3x3 matrix: \n",
      " [[0.95032773 0.01111104 0.92481503]\n",
      " [0.96138376 0.68569978 0.51120703]\n",
      " [0.96441029 0.5155953  0.34882744]] \n",
      "\n",
      "Random 2x2 complex matrix: \n",
      " [[0.01574503+0.93283509j 0.33599509+0.32252532j]\n",
      " [0.57768788+0.9061519j  0.59470599+0.50823113j]] \n",
      "\n",
      "Random complex rank-3 tensor: \n",
      " [[[0.79875196+0.49431022j 0.19711714+0.29652946j]\n",
      "  [0.64901131+0.06614763j 0.03954571+0.0366542j ]]\n",
      "\n",
      " [[0.56697093+0.02388879j 0.29823362+0.1669452j ]\n",
      "  [0.35400679+0.18706837j 0.22120327+0.1601003j ]]]\n"
     ]
    }
   ],
   "source": [
    "matrix = np.random.rand(3,3) #3x3 matrix with random entries\n",
    "print(\"Random 3x3 matrix: \\n %s \\n\" %(matrix))\n",
    "\n",
    "complex_matrix = np.random.rand(2,2) + np.random.rand(2,2)*1j #2x2 matrix with complex entries\n",
    "print(\"Random 2x2 complex matrix: \\n %s \\n\" %(complex_matrix))\n",
    "\n",
    "complex_tensor = np.random.rand(2,2,2) + np.random.rand(2,2,2)*1j #2x2x2 tensor with complex entries\n",
    "print(\"Random complex rank-3 tensor: \\n %s\" %(complex_tensor))"
   ]
  },
  {
   "cell_type": "markdown",
   "id": "07b742bd",
   "metadata": {},
   "source": [
    "### 1.2.1. Indexing and slicing tensors"
   ]
  },
  {
   "cell_type": "markdown",
   "id": "156bdc1e",
   "metadata": {},
   "source": [
    "#### Indexing:"
   ]
  },
  {
   "cell_type": "code",
   "execution_count": 7,
   "id": "e70e5c9f",
   "metadata": {},
   "outputs": [
    {
     "name": "stdout",
     "output_type": "stream",
     "text": [
      "Matrix: \n",
      " [[1 2 3]\n",
      " [4 5 6]\n",
      " [7 8 9]] \n",
      "\n",
      "Matrix 0'th row: [1 2 3]\n",
      "Matrix 0'th column: [1 4 7]\n"
     ]
    }
   ],
   "source": [
    "matrix = np.array([[1,2,3],[4,5,6],[7,8,9]])\n",
    "\n",
    "print(\"Matrix: \\n %s \\n\" %(matrix))\n",
    "\n",
    "i = 0\n",
    "matrix_row = matrix[i] #index i'th row of a matrix\n",
    "print(\"Matrix %s'th row: %s\" %(i, matrix_row))\n",
    "\n",
    "matrix_column = matrix[:,i] #index i'th column of a matrix\n",
    "print(\"Matrix %s'th column: %s\" %(i, matrix_column))"
   ]
  },
  {
   "cell_type": "markdown",
   "id": "7f5d4f88",
   "metadata": {},
   "source": [
    "#### Slicing: <br>\n",
    "_(NB: first slicing index not included)_"
   ]
  },
  {
   "cell_type": "code",
   "execution_count": 8,
   "id": "b3496c47",
   "metadata": {},
   "outputs": [
    {
     "name": "stdout",
     "output_type": "stream",
     "text": [
      "Slice 2:5 of vector [-2 -1  0  1  2]: \n",
      " [0 1 2] \n"
     ]
    }
   ],
   "source": [
    "vect = np.array([-2,-1,0,1,2])\n",
    "vect_slice = vect[2:5] #slice from element 2 til 5\n",
    "print(\"Slice 2:5 of vector %s: \\n %s \" %(vect, vect_slice))"
   ]
  },
  {
   "cell_type": "markdown",
   "id": "50a5756f",
   "metadata": {},
   "source": [
    "Slicing higher-rank tensors is also simple:"
   ]
  },
  {
   "cell_type": "code",
   "execution_count": 9,
   "id": "cfeb86ac",
   "metadata": {},
   "outputs": [
    {
     "name": "stdout",
     "output_type": "stream",
     "text": [
      "Matrix: \n",
      " [[1 2 3]\n",
      " [4 5 6]\n",
      " [7 8 9]] \n",
      "\n",
      "Slice [1:2,2:3] (bottom right 2x2) of matrix: \n",
      " [[5 6]\n",
      " [8 9]] \n"
     ]
    }
   ],
   "source": [
    "print(\"Matrix: \\n %s \\n\" %(matrix))\n",
    "\n",
    "matrix_slice = matrix[1:3,1:3]\n",
    "print(\"Slice [1:2,2:3] (bottom right 2x2) of matrix: \\n %s \" %(matrix_slice))"
   ]
  },
  {
   "cell_type": "markdown",
   "id": "25f19716",
   "metadata": {},
   "source": [
    "### 1.2.2. Transposing tensors"
   ]
  },
  {
   "cell_type": "markdown",
   "id": "75e2ce33",
   "metadata": {},
   "source": [
    "We can use the ndarray._transpose(indeces)_ method or, equivalently, the _transpose(ndarray, indeces)_ function. <br>\n",
    "The argument _indeces_ specifies the permutation used to transpose the tensor. If not specified, defaults to range(a.ndim)[::-1], which completely reverses the order. In this case, the shortcut method _.T_ can be used."
   ]
  },
  {
   "cell_type": "code",
   "execution_count": 10,
   "id": "50d5d15d",
   "metadata": {},
   "outputs": [
    {
     "name": "stdout",
     "output_type": "stream",
     "text": [
      "Matrix: \n",
      " [[1 2 3]\n",
      " [4 5 6]\n",
      " [7 8 9]] \n",
      "\n",
      "Methods match:  True\n",
      "Transposed matrix: \n",
      " [[1 4 7]\n",
      " [2 5 8]\n",
      " [3 6 9]]\n"
     ]
    }
   ],
   "source": [
    "print(\"Matrix: \\n %s \\n\" %(matrix))\n",
    "\n",
    "matrix_trans1 = matrix.transpose(1,0)\n",
    "matrix_trans2 = matrix.T\n",
    "print(\"Methods match: \", (np.allclose(matrix_trans1,matrix_trans2)))\n",
    "print(\"Transposed matrix: \\n\", matrix_trans1)"
   ]
  },
  {
   "cell_type": "code",
   "execution_count": 11,
   "id": "1e38776a",
   "metadata": {},
   "outputs": [
    {
     "name": "stdout",
     "output_type": "stream",
     "text": [
      "Tensor: \n",
      " [[[0.4207849  0.97685537]\n",
      "  [0.90327353 0.86110961]]\n",
      "\n",
      " [[0.21637027 0.68185991]\n",
      "  [0.57400025 0.7014877 ]]] \n",
      "\n",
      "Transposed tensor: \n",
      " [[[0.4207849  0.90327353]\n",
      "  [0.97685537 0.86110961]]\n",
      "\n",
      " [[0.21637027 0.57400025]\n",
      "  [0.68185991 0.7014877 ]]]\n",
      "\n",
      " Methods match:  False\n"
     ]
    }
   ],
   "source": [
    "tensor = np.random.rand(2,2,2)\n",
    "print(\"Tensor: \\n %s \\n\" %(tensor))\n",
    "\n",
    "tensor_trans = tensor.transpose(0,2,1) #transpose last 2 indeces\n",
    "print(\"Transposed tensor: \\n\", tensor_trans)\n",
    "\n",
    "#we don't expect this to match with the .T shortcut\n",
    "print(\"\\n Methods match: \", (np.allclose(tensor_trans,tensor.T)))"
   ]
  },
  {
   "cell_type": "markdown",
   "id": "a538e338",
   "metadata": {},
   "source": [
    "#### Hermitian conjugate (cojugate + transpose)"
   ]
  },
  {
   "cell_type": "code",
   "execution_count": 12,
   "id": "9dcd4ea2",
   "metadata": {},
   "outputs": [
    {
     "name": "stdout",
     "output_type": "stream",
     "text": [
      "Complex matrix: \n",
      " [[0.01574503+0.93283509j 0.33599509+0.32252532j]\n",
      " [0.57768788+0.9061519j  0.59470599+0.50823113j]] \n",
      "\n",
      "Hermitian conjugate of matrix: \n",
      " [[0.01574503-0.93283509j 0.57768788-0.9061519j ]\n",
      " [0.33599509-0.32252532j 0.59470599-0.50823113j]]\n"
     ]
    }
   ],
   "source": [
    "print(\"Complex matrix: \\n %s \\n\" %(complex_matrix))\n",
    "print(\"Hermitian conjugate of matrix: \\n\", complex_matrix.conj().T)"
   ]
  },
  {
   "cell_type": "markdown",
   "id": "a3cf0989",
   "metadata": {},
   "source": [
    "### 1.2.3. Tensor norm"
   ]
  },
  {
   "cell_type": "markdown",
   "id": "943eb02e",
   "metadata": {},
   "source": [
    "The _np.linalg.norm()_ function allows us to calculate different order norms for tensors. For example, the 2-norm:"
   ]
  },
  {
   "cell_type": "code",
   "execution_count": 13,
   "id": "1cf8045a",
   "metadata": {},
   "outputs": [
    {
     "name": "stdout",
     "output_type": "stream",
     "text": [
      "Norm for vector [-2 -1  1  2] is: 3.1622776601683795\n",
      "Norm for matrix \n",
      " [[-2 -1]\n",
      " [ 1  2]] \n",
      " is: 3.1622776601683795\n"
     ]
    }
   ],
   "source": [
    "vect = np.array([-2,-1,1,2])\n",
    "vect_norm = np.linalg.norm(vect)\n",
    "print(\"Norm for vector %s is: %s\" %(vect, vect_norm))\n",
    "\n",
    "matrix = np.reshape(vect, (2,2))\n",
    "matrix_norm = np.linalg.norm(matrix)\n",
    "print(\"Norm for matrix \\n %s \\n is: %s\" %(matrix, matrix_norm))"
   ]
  },
  {
   "cell_type": "markdown",
   "id": "09518e67",
   "metadata": {},
   "source": [
    "### 1.2.4. Tensor products"
   ]
  },
  {
   "cell_type": "markdown",
   "id": "723037e4",
   "metadata": {},
   "source": [
    "It is useful to learn how to use the general function _np.tensordot()_ to conveniently do tensor product operations by specifying the indeces over which the operation takes place. In some instances there exist simpler functions. We will see some example with vectors and matrices, which can be generalised to higher-rank tensors."
   ]
  },
  {
   "cell_type": "markdown",
   "id": "60714070",
   "metadata": {},
   "source": [
    "#### Vectors"
   ]
  },
  {
   "cell_type": "markdown",
   "id": "df708d0f",
   "metadata": {},
   "source": [
    "Given two vectors $v, u$ of dimension $m, n$ respectively:\n",
    "1. Outer (Kronecker) product:\n",
    "$~~~~v \\otimes u = \\left[ \\begin{array}{cc} \n",
    "v_{1} u_1 & v_{1}u_2 &\\cdots& v_1 u_n \\\\ \n",
    "v_{2} u_1 & v_{2}u_2 &\\cdots& v_{2} u_n \\\\\n",
    "\\vdots & \\vdots & \\cdots & \\vdots \\\\\n",
    "v_{m} u_1 & v_mu_2 &\\cdots& v_m u_n\n",
    "\\end{array} \\right]$ <br>\n",
    "<br>\n",
    "2. Dot product: $v\\cdot u = v_1u_1 + v_2u_2 \\cdots v_m u_n$"
   ]
  },
  {
   "cell_type": "code",
   "execution_count": 14,
   "id": "50aa3b96",
   "metadata": {},
   "outputs": [
    {
     "name": "stdout",
     "output_type": "stream",
     "text": [
      "Vectors: [1 2 3] , [4 5 6] \n",
      "\n",
      "Outer product: \n",
      " [[ 4  5  6]\n",
      " [ 8 10 12]\n",
      " [12 15 18]] \n",
      "\n",
      "Dot product: 32\n"
     ]
    }
   ],
   "source": [
    "v = np.array([1,2,3])\n",
    "u = np.array([4,5,6])\n",
    "print(\"Vectors: %s , %s \\n\" %(v,u))\n",
    "\n",
    "#1. Vector outer product (results in a matrix)\n",
    "outer_prod = np.tensordot(v, u, axes=0)\n",
    "print(\"Outer product: \\n %s \\n\" %(outer_prod))\n",
    "\n",
    "#2. Vector dot product (results in a scalar)\n",
    "dot_prod = np.tensordot(v, u, axes=1)\n",
    "print(\"Dot product: %s\" %(dot_prod))"
   ]
  },
  {
   "cell_type": "markdown",
   "id": "240f8834",
   "metadata": {},
   "source": [
    "#### Matrix"
   ]
  },
  {
   "cell_type": "markdown",
   "id": "5dd961b9",
   "metadata": {},
   "source": [
    "Given two matrices $A,B$ with shapes $m\\times n$ and $q \\times p$ respectively:\n",
    "\n",
    "1. Outer (Kronecker) product:\n",
    "$~~~~A \\otimes B = \\left[ \\begin{array}{cc} \n",
    "a_{11} B & a_{12}B &\\cdots& a_{1n} B \\\\ \n",
    "a_{21} B & a_{22}B &\\cdots& a_{2n} B \\\\\n",
    "\\vdots & \\vdots & \\cdots & \\vdots \\\\\n",
    "a_{m1} B & a_{m2}B &\\cdots& a_{mn} B\n",
    "\\end{array} \\right]$ <br>\n",
    "<br>\n",
    "2. Standard matrix product ($n=q$ and result is $m\\times p$):\n",
    "$~~~~AB = C$ where $c_{ij} = a_{i1}b_{1j}+a_{i2}b_{2j}+\\cdots +a_{in}b_{n_j} = \\sum_{k=1}^na_{ik}b_{kj}$. <br>\n",
    "<br>\n",
    "3. Element-wise product ($m=q, n=p$): \n",
    "$~~~~AB = a_{11}b_{11}+a_{12}b_{12}+\\cdots+ a_{mn}b_{mn}$."
   ]
  },
  {
   "cell_type": "code",
   "execution_count": 15,
   "id": "dcde9eff",
   "metadata": {},
   "outputs": [
    {
     "name": "stdout",
     "output_type": "stream",
     "text": [
      "Matrices: \n",
      " A = [[1 2 3]\n",
      " [4 5 6]] \n",
      " B= [[1 0]\n",
      " [0 1]\n",
      " [1 0]] \n",
      "\n",
      "Outer product: \n",
      " [[1 0 2 0 3 0]\n",
      " [0 1 0 2 0 3]\n",
      " [1 0 2 0 3 0]\n",
      " [4 0 5 0 6 0]\n",
      " [0 4 0 5 0 6]\n",
      " [4 0 5 0 6 0]] \n",
      "\n",
      "Standard product: \n",
      " [[ 4  2]\n",
      " [10  5]] \n",
      "\n",
      "Element-wise product: 9\n"
     ]
    }
   ],
   "source": [
    "A = np.array([[1,2,3],[4,5,6]])\n",
    "B = np.array([[1,0,1],[0,1,0]]).T\n",
    "print(\"Matrices: \\n A = %s \\n B= %s \\n\" %(A,B))\n",
    "\n",
    "# 1. Outer product \n",
    "#two ways\n",
    "outer_prod1 = np.tensordot(A,B, axes = 0).transpose(0,2,1,3).reshape(6,6)\n",
    "outer_prod2 = np.kron(A,B) #simpler\n",
    "if np.allclose(outer_prod1,outer_prod2):\n",
    "    print(\"Outer product: \\n %s \\n\" %(outer_prod2))\n",
    "    \n",
    "# 2. Standard matrix product\n",
    "#three ways\n",
    "stand_prod1 = np.tensordot(A, B, axes = (1,0))\n",
    "stand_prod2 = np.matmul(A, B)\n",
    "stand_prod3 = A.dot(B)\n",
    "if np.allclose(stand_prod1, stand_prod2, stand_prod3):\n",
    "    print(\"Standard product: \\n %s \\n\" %(stand_prod3))\n",
    "    \n",
    "# 3. Element-wise product\n",
    "B = B.T #transpose for dimensions to match\n",
    "element_prod = np.tensordot(A, B, axes = 2)\n",
    "print(\"Element-wise product: %s\" %(element_prod))"
   ]
  },
  {
   "cell_type": "markdown",
   "id": "09847745",
   "metadata": {},
   "source": [
    "## 1.3. Eigenvalues and eigenvectors"
   ]
  },
  {
   "cell_type": "markdown",
   "id": "fb2ecde3",
   "metadata": {},
   "source": [
    "The _numpy_ function _linalg.eig()_ returns:\n",
    "- D: array with the eigenvalues (diagonal entries of the similar matrix)\n",
    "- U: matrix containing the normalised eigenvectors in its columns, such that U[:,i] is the eigenvector corresponding to eigenvalue D[i]."
   ]
  },
  {
   "cell_type": "code",
   "execution_count": 16,
   "id": "8ef174ee",
   "metadata": {},
   "outputs": [
    {
     "name": "stdout",
     "output_type": "stream",
     "text": [
      "Pauli Z matrix: \n",
      " [[ 1  0]\n",
      " [ 0 -1]] \n",
      "\n",
      "Eigenvalues: [ 1. -1.] \n",
      "Eigenvectors: [1. 0.], [0. 1.]\n"
     ]
    }
   ],
   "source": [
    "Z = np.array([[1,0],[0,-1]])\n",
    "print(\"Pauli Z matrix: \\n %s \\n\" %(Z))\n",
    "\n",
    "D, U = np.linalg.eig(Z)\n",
    "print(\"Eigenvalues: %s \\nEigenvectors: %s, %s\" %(D, U[:,0], U[:,1]))"
   ]
  },
  {
   "cell_type": "markdown",
   "id": "8892ee6c",
   "metadata": {},
   "source": [
    "For a random hermitian matrix let's check that $M = U\\cdot D \\cdot U^{\\dagger}$ and that $M\\cdot \\vec{v}_i = \\lambda_i \\vec{v}_i$:"
   ]
  },
  {
   "cell_type": "code",
   "execution_count": 17,
   "id": "58ee12fa",
   "metadata": {},
   "outputs": [
    {
     "name": "stdout",
     "output_type": "stream",
     "text": [
      "The eigenvalue decomposition procedure works:  True\n",
      "The eigenvalue equation holds (eigenvalue i=1):  True\n"
     ]
    }
   ],
   "source": [
    "M = np.random.rand(3,3) + np.random.rand(3,3)*1j\n",
    "M = (M + M.conj().T)/2 \n",
    "\n",
    "D, U = np.linalg.eig(M)\n",
    "M_resulting = U.dot(np.diag(D)).dot(U.conj().T)\n",
    "\n",
    "print(\"The eigenvalue decomposition procedure works: \", np.allclose(M,M_resulting))\n",
    "print(\"The eigenvalue equation holds (eigenvalue i=1): \", np.allclose(np.dot(M,U[:,0]), D[0]*U[:,0]))"
   ]
  }
 ],
 "metadata": {
  "kernelspec": {
   "display_name": "Python 3 (ipykernel)",
   "language": "python",
   "name": "python3"
  },
  "language_info": {
   "codemirror_mode": {
    "name": "ipython",
    "version": 3
   },
   "file_extension": ".py",
   "mimetype": "text/x-python",
   "name": "python",
   "nbconvert_exporter": "python",
   "pygments_lexer": "ipython3",
   "version": "3.9.7"
  }
 },
 "nbformat": 4,
 "nbformat_minor": 5
}
